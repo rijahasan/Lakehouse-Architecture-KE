{
 "cells": [
  {
   "cell_type": "code",
   "execution_count": 1,
   "id": "cea452bb-8b62-4079-8161-7b50a0647a64",
   "metadata": {},
   "outputs": [
    {
     "ename": "SystemExit",
     "evalue": "usage: ipykernel_launcher.py [global_opts] cmd1 [cmd1_opts] [cmd2 [cmd2_opts] ...]\n   or: ipykernel_launcher.py --help [cmd1 cmd2 ...]\n   or: ipykernel_launcher.py --help-commands\n   or: ipykernel_launcher.py cmd --help\n\nerror: option -f not recognized",
     "output_type": "error",
     "traceback": [
      "An exception has occurred, use %tb to see the full traceback.\n",
      "\u001b[0;31mSystemExit\u001b[0m\u001b[0;31m:\u001b[0m usage: ipykernel_launcher.py [global_opts] cmd1 [cmd1_opts] [cmd2 [cmd2_opts] ...]\n   or: ipykernel_launcher.py --help [cmd1 cmd2 ...]\n   or: ipykernel_launcher.py --help-commands\n   or: ipykernel_launcher.py cmd --help\n\nerror: option -f not recognized\n"
     ]
    },
    {
     "name": "stderr",
     "output_type": "stream",
     "text": [
      "/usr/local/lib/python3.10/dist-packages/IPython/core/interactiveshell.py:3585: UserWarning: To exit: use 'exit', 'quit', or Ctrl-D.\n",
      "  warn(\"To exit: use 'exit', 'quit', or Ctrl-D.\", stacklevel=1)\n"
     ]
    }
   ],
   "source": [
    "#!/usr/bin/env python\n",
    "# -*- coding: utf-8 -*-\n",
    "\n",
    "\"\"\"The setup script.\"\"\"\n",
    "\n",
    "from setuptools import setup, find_packages\n",
    "\n",
    "with open('README.md') as readme_file:\n",
    "    readme = readme_file.read()\n",
    "\n",
    "requirements = [\n",
    "    'sqlalchemy>=1.3.24',\n",
    "    'pyarrow>=5.0.0'\n",
    "]\n",
    "\n",
    "setup_requirements = [\n",
    "]\n",
    "\n",
    "test_requirements = [\n",
    "]\n",
    "\n",
    "setup(\n",
    "    name='sqlalchemy_dremio',\n",
    "    version='3.0.4',\n",
    "    description=\"A SQLAlchemy dialect for Dremio via the Flight interface.\",\n",
    "    long_description=readme,\n",
    "    long_description_content_type='text/markdown',\n",
    "    author=\"Naren\",\n",
    "    author_email='me@narendran.info',\n",
    "    url='https://github.com/narendrans/sqlalchemy_dremio',\n",
    "    packages=find_packages(include=['sqlalchemy_dremio']),\n",
    "    entry_points={\n",
    "        'sqlalchemy.dialects': [\n",
    "            'dremio.flight = sqlalchemy_dremio.flight:DremioDialect_flight',\n",
    "        ]\n",
    "    },\n",
    "    include_package_data=True,\n",
    "    install_requires=requirements,\n",
    "    license=\"Apache Software License\",\n",
    "    zip_safe=False,\n",
    "    keywords='sqlalchemy_dremio',\n",
    "    classifiers=[\n",
    "        'Development Status :: 5 - Production/Stable',\n",
    "        'Intended Audience :: Developers',\n",
    "        'License :: OSI Approved :: Apache Software License',\n",
    "        'Natural Language :: English',\n",
    "        'Programming Language :: Python :: 3',\n",
    "        'Programming Language :: Python :: 3.7'\n",
    "    ]\n",
    ")\n"
   ]
  },
  {
   "cell_type": "code",
   "execution_count": 2,
   "id": "9b39d1dd-d20f-4b42-abc4-82dee40c8b3d",
   "metadata": {},
   "outputs": [
    {
     "ename": "SyntaxError",
     "evalue": "invalid syntax (1013870051.py, line 1)",
     "output_type": "error",
     "traceback": [
      "\u001b[0;36m  Cell \u001b[0;32mIn[2], line 1\u001b[0;36m\u001b[0m\n\u001b[0;31m    python setup.py install\u001b[0m\n\u001b[0m           ^\u001b[0m\n\u001b[0;31mSyntaxError\u001b[0m\u001b[0;31m:\u001b[0m invalid syntax\n"
     ]
    }
   ],
   "source": [
    "python 'setup.py install\n"
   ]
  },
  {
   "cell_type": "code",
   "execution_count": null,
   "id": "57cc6292-8999-4bf6-a452-7e32adf8c932",
   "metadata": {},
   "outputs": [],
   "source": []
  }
 ],
 "metadata": {
  "kernelspec": {
   "display_name": "Python 3 (ipykernel)",
   "language": "python",
   "name": "python3"
  },
  "language_info": {
   "codemirror_mode": {
    "name": "ipython",
    "version": 3
   },
   "file_extension": ".py",
   "mimetype": "text/x-python",
   "name": "python",
   "nbconvert_exporter": "python",
   "pygments_lexer": "ipython3",
   "version": "3.10.12"
  }
 },
 "nbformat": 4,
 "nbformat_minor": 5
}
